{
  "nbformat": 4,
  "nbformat_minor": 0,
  "metadata": {
    "colab": {
      "provenance": [],
      "mount_file_id": "1VVDfHrCaXh961zjEjLLmmC4UKxgyu9R0",
      "authorship_tag": "ABX9TyOeeurkaqei4h6GYichcD7F",
      "include_colab_link": true
    },
    "kernelspec": {
      "name": "python3",
      "display_name": "Python 3"
    },
    "language_info": {
      "name": "python"
    }
  },
  "cells": [
    {
      "cell_type": "markdown",
      "metadata": {
        "id": "view-in-github",
        "colab_type": "text"
      },
      "source": [
        "<a href=\"https://colab.research.google.com/github/talhaf2021266017/ML/blob/main/Untitled13.ipynb\" target=\"_parent\"><img src=\"https://colab.research.google.com/assets/colab-badge.svg\" alt=\"Open In Colab\"/></a>"
      ]
    },
    {
      "cell_type": "code",
      "source": [
        "import whisper\n",
        "from jiwer import wer\n",
        "model = whisper.load_model('base.en')\n",
        "audio_files = [\n",
        "    \"/clip_1.mp3\",\n",
        "    \"/clip_2.mp3\",\n",
        "    \"/clip_3.mp3\",\n",
        "    \"/clip_4.mp3\",\n",
        "    \"/clip_5.mp3\",\n",
        "    \"/clip_6.mp3\",\n",
        "    \"/clip_7.mp3\",\n",
        "    \"/clip_8.mp3\",\n",
        "    \"/clip_9.mp3\",\n",
        "    \"/clip_10.mp3\"\n",
        "]\n",
        "text_file = []\n",
        "for file in audio_files:\n",
        "    result = model.transcribe(file,fp16=False)\n",
        "    print(result[\"text\"])\n",
        "    text_file.append(result[\"text\"])\n",
        "reference = text_file\n",
        "hypothesis = [ \"The sun was shining brightly over the quiet neighborhood.\",\n",
        "\t     \"He forgot his keys on the kitchen table again.\",\n",
        "\t\t \"A quick brown fox jumps over the lazy dog.\",\n",
        "\t\t \"Please make sure to save your work before shutting down.\",\n",
        "\t\t \"I took a walk in the park to clear my mind.\",\n",
        "\t\t \"The coffee machine broke down this morning.\",\n",
        "\t\t \"It might rain later, so don’t forget your umbrella.\",\n",
        "\t\t \"She laughed at the joke even though it wasn’t funny.\",\n",
        "\t\t \"Time flies when you’re doing something you love.\",\n",
        "\t\t \"The library closes at 6 PM on Fridays.\"]\n",
        "\n",
        "error = wer(text_file,hypothesis )\n",
        "accuracy = 1 - error\n",
        "\n",
        "print(f\"WER: {error*100:.2f}%\")\n",
        "print(f\"Accuracy: {accuracy*100:.2f}%\")\n"
      ],
      "metadata": {
        "colab": {
          "base_uri": "https://localhost:8080/"
        },
        "id": "AoYM-2v_Bn3f",
        "outputId": "1f3a98a7-e207-4103-f6b6-6e0e05aa0743"
      },
      "execution_count": 26,
      "outputs": [
        {
          "output_type": "stream",
          "name": "stdout",
          "text": [
            " The sun was shining brightly over the choir to neighborhood.\n",
            " He forgot his key on the kitchen table again.\n",
            " quick brown fox dumps over the lazy dog.\n",
            " Please make sure to save your work before shutting down.\n",
            " I talk a walk in the park to clear my mind.\n",
            " The coffee machine broke down this morning.\n",
            " It might rain later, so don't forget your umbrella.\n",
            " She laughed at the jokey man though it wasn't funny.\n",
            " Time flies when you're doing something you love.\n",
            " The library closes at 6pm on Friday.\n",
            "WER: 15.73%\n",
            "Accuracy: 84.27%\n"
          ]
        }
      ]
    }
  ]
}